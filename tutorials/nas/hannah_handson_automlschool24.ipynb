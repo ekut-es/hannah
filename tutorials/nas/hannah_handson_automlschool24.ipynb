{
 "cells": [
  {
   "cell_type": "markdown",
   "id": "ccd3ab71-ac23-44f9-ac2c-6be5699b5ede",
   "metadata": {
    "editable": true,
    "slideshow": {
     "slide_type": "slide"
    },
    "tags": []
   },
   "source": [
    "# Hands-on HANNAH Framework \n",
    "## AutoML School\n",
    "### Hannover 2024 "
   ]
  },
  {
   "cell_type": "markdown",
   "id": "c296b9c3",
   "metadata": {},
   "source": [
    "import hannah"
   ]
  },
  {
   "cell_type": "code",
   "execution_count": null,
   "id": "f0187d7a-4408-4d44-99ea-b4ba625da222",
   "metadata": {},
   "outputs": [],
   "source": []
  }
 ],
 "metadata": {
  "kernelspec": {
   "display_name": "Python 3 (ipykernel)",
   "language": "python",
   "name": "python3"
  },
  "language_info": {
   "codemirror_mode": {
    "name": "ipython",
    "version": 3
   },
   "file_extension": ".py",
   "mimetype": "text/x-python",
   "name": "python",
   "nbconvert_exporter": "python",
   "pygments_lexer": "ipython3",
   "version": "3.10.12"
  }
 },
 "nbformat": 4,
 "nbformat_minor": 5
}
