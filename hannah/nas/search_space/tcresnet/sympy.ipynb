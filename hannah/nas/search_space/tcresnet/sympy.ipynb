{
 "cells": [
  {
   "cell_type": "code",
   "execution_count": 1,
   "metadata": {},
   "outputs": [],
   "source": [
    "import sympy as sp\n",
    "from sympy.solvers import solve,nsolve, solveset\n",
    "from sympy import Eq, symbols, floor, ceiling\n",
    "import numpy as np"
   ]
  },
  {
   "cell_type": "code",
   "execution_count": 3,
   "metadata": {},
   "outputs": [
    {
     "data": {
      "text/plain": [
       "{b: e, c: e, d: e}"
      ]
     },
     "execution_count": 3,
     "metadata": {},
     "output_type": "execute_result"
    }
   ],
   "source": [
    "a, b, c, d, e = symbols(\"a b c d e\", integer=True)\n",
    "constraints = [c - b, \n",
    "               c - d, \n",
    "               e - c]\n",
    "# constraints.extend([b - 128])\n",
    "# constraints = (c - d) and (e - c) and (c - b)\n",
    "sol = solve(constraints)\n",
    "sol"
   ]
  },
  {
   "cell_type": "code",
   "execution_count": 4,
   "metadata": {},
   "outputs": [
    {
     "data": {
      "text/plain": [
       "{b: e, c: e, d: e}"
      ]
     },
     "execution_count": 4,
     "metadata": {},
     "output_type": "execute_result"
    }
   ],
   "source": [
    "a, b, c, d, e = symbols(\"a b c d e\", integer=True)\n",
    "constraints = [c - b, \n",
    "               c - d, \n",
    "               e - c]\n",
    "solve(constraints)"
   ]
  },
  {
   "cell_type": "code",
   "execution_count": 5,
   "metadata": {},
   "outputs": [
    {
     "data": {
      "text/latex": [
       "$\\displaystyle a$"
      ],
      "text/plain": [
       "a"
      ]
     },
     "execution_count": 5,
     "metadata": {},
     "output_type": "execute_result"
    }
   ],
   "source": [
    "a = symbols('a')\n",
    "a.is_symbol\n",
    "a.evalf()"
   ]
  },
  {
   "cell_type": "code",
   "execution_count": 6,
   "metadata": {},
   "outputs": [
    {
     "data": {
      "text/plain": [
       "False"
      ]
     },
     "execution_count": 6,
     "metadata": {},
     "output_type": "execute_result"
    }
   ],
   "source": [
    "a = a.subs({a: 1})\n",
    "a.is_symbol\n",
    "\n",
    "isinstance(a, int)"
   ]
  },
  {
   "cell_type": "code",
   "execution_count": 7,
   "metadata": {},
   "outputs": [
    {
     "data": {
      "text/plain": [
       "{b: 128, c: 128, d: 128, e: 128}"
      ]
     },
     "execution_count": 7,
     "metadata": {},
     "output_type": "execute_result"
    }
   ],
   "source": [
    "constraints.extend([b - 128])\n",
    "solve(constraints)"
   ]
  },
  {
   "cell_type": "code",
   "execution_count": 8,
   "metadata": {},
   "outputs": [
    {
     "data": {
      "text/plain": [
       "{b: 128, c: 128, d: 32, e: 32, f: 32, g: 32}"
      ]
     },
     "execution_count": 8,
     "metadata": {},
     "output_type": "execute_result"
    }
   ],
   "source": [
    "a, b, c, d, e, f, g, h, i = symbols(\"a b c d e f g h i\", integer=True)\n",
    "# var = [a, b, c, d, e]\n",
    "# constraints = [c - d, e - c, c - b]\n",
    "constraints = [c - b, \n",
    "               e - d, \n",
    "               e - f, \n",
    "               g - e]\n",
    "constraints.extend([b - 128, d - 32])\n",
    "# constraints = (c - d) and (e - c) and (c - b)\n",
    "sol = solve(constraints)\n",
    "sol"
   ]
  },
  {
   "cell_type": "code",
   "execution_count": 42,
   "metadata": {},
   "outputs": [
    {
     "data": {
      "text/plain": [
       "[{add_w: 1/2,\n",
       "  conv1_s: 2,\n",
       "  conv1_w: 1/2,\n",
       "  conv2_s: 2,\n",
       "  conv2_w: 1/2,\n",
       "  relu_w: 1/2,\n",
       "  w: 1}]"
      ]
     },
     "execution_count": 42,
     "metadata": {},
     "output_type": "execute_result"
    }
   ],
   "source": [
    "w = symbols(\"w\", positive=True)\n",
    "conv1_w = symbols(\"conv1_w\", positive=True)\n",
    "conv2_w = symbols(\"conv2_w\", positive=True)\n",
    "\n",
    "conv1_s = symbols(\"conv1_s\", integer=True)\n",
    "conv2_s = symbols(\"conv2_s\", integer=True)\n",
    "\n",
    "# count_strides = symbols(\"count_strides\", integer=True)\n",
    "# count_strides = symbols(\"conv2_s\", integer=True)\n",
    "\n",
    "relu_w = symbols(\"relu_w\", positive=True)\n",
    "add_w = symbols(\"add_w\", positive=True)\n",
    "\n",
    "constraints = [conv1_w - w / conv1_s,\n",
    "               conv2_w - w / conv2_s,\n",
    "               relu_w - conv1_w,\n",
    "               add_w - relu_w, \n",
    "               conv2_w - relu_w,\n",
    "               w - 1]\n",
    "\n",
    "\n",
    "constraints.extend([conv1_s - 2])\n",
    "sol = solve(constraints)\n",
    "sol\n"
   ]
  },
  {
   "cell_type": "code",
   "execution_count": 184,
   "metadata": {},
   "outputs": [
    {
     "data": {
      "text/plain": [
       "[]"
      ]
     },
     "execution_count": 184,
     "metadata": {},
     "output_type": "execute_result"
    }
   ],
   "source": [
    "w = symbols(\"w\", integer=True)\n",
    "conv1_w, conv1_k, conv1_p, conv1_s = symbols(\"conv1_w conv1_p conv1_k conv1_s\", integer=True)\n",
    "conv2_w, conv2_k, conv2_p, conv2_s = symbols(\"conv2_w conv2_p conv2_k conv2_s\", integer=True)\n",
    "\n",
    "relu_w = symbols(\"relu_w\", integer=True)\n",
    "add_w = symbols(\"add_w\", integer=True)\n",
    "\n",
    "constraints = [((w + 2*conv1_p - (conv1_k - 1) - 1) / conv1_s) + 1 - conv1_w,\n",
    "               ((w + 2*conv2_p - (conv2_k - 1) - 1) / conv2_s) + 1 - conv2_w,\n",
    "               \n",
    "               add_w - relu_w,\n",
    "               relu_w - conv2_w,\n",
    "               w - 32, \n",
    "               conv1_w - 32]\n",
    "\n",
    "\n",
    "constraints.extend([conv1_k - 3, conv1_s - 2])\n",
    "constraints.extend([conv2_k - 3, conv2_s - 2])\n",
    "sol = solve(constraints)\n",
    "sol"
   ]
  },
  {
   "cell_type": "code",
   "execution_count": 3,
   "metadata": {},
   "outputs": [],
   "source": [
    "def halves(x):\n",
    "    halves = []\n",
    "\n",
    "    while x > 0:\n",
    "        halves.append(x)\n",
    "        x /= 2\n",
    "        x = int(x)\n",
    "    return halves"
   ]
  },
  {
   "cell_type": "code",
   "execution_count": 2,
   "metadata": {},
   "outputs": [],
   "source": [
    "out, stride, kernel_size, pad, dil, inp = symbols('out stride kernel_size pad dil inp', integer=True)"
   ]
  },
  {
   "cell_type": "code",
   "execution_count": 5,
   "metadata": {},
   "outputs": [],
   "source": [
    "constraints = [\n",
    "    out - floor(((inp + 2 * pad - dil * (kernel_size - 1) - 1) / stride) + 1), \n",
    "    out - ceiling(inp / stride),\n",
    "    inp - 31, \n",
    "    stride - 2, \n",
    "    kernel_size - 3,\n",
    "    dil - 3\n",
    "]"
   ]
  },
  {
   "cell_type": "code",
   "execution_count": 10,
   "metadata": {},
   "outputs": [
    {
     "data": {
      "text/plain": [
       "[{dil: 3, inp: 31, kernel_size: 3, stride: 2, out: 16, pad: 3}]"
      ]
     },
     "execution_count": 10,
     "metadata": {},
     "output_type": "execute_result"
    }
   ],
   "source": [
    "solve(constraints, dict=True)"
   ]
  },
  {
   "cell_type": "code",
   "execution_count": 67,
   "metadata": {},
   "outputs": [],
   "source": [
    "a = [0, 1, 0, 1, 0, 0, 0, 0, 1]\n",
    "b = [0, 1, 0, 0, 0, 0, 0, 0, 0]\n",
    "c = [0, 0, 1, 0, 1, 0, 0, 1, 0]\n",
    "d = [1, 0, 0, 1, 0, 0, 1, 0, 0]\n",
    "mat = np.vstack((b, c, d))"
   ]
  },
  {
   "cell_type": "code",
   "execution_count": 73,
   "metadata": {},
   "outputs": [
    {
     "data": {
      "text/plain": [
       "(array([0, 1]),)"
      ]
     },
     "execution_count": 73,
     "metadata": {},
     "output_type": "execute_result"
    }
   ],
   "source": [
    "np.where(mat[:, 0] == a[0])"
   ]
  },
  {
   "cell_type": "code",
   "execution_count": null,
   "metadata": {},
   "outputs": [],
   "source": []
  },
  {
   "cell_type": "code",
   "execution_count": 66,
   "metadata": {},
   "outputs": [
    {
     "data": {
      "text/plain": [
       "array([[0, 1, 0, 0, 0, 0, 0, 0, 0],\n",
       "       [0, 0, 1, 0, 1, 0, 0, 1, 0],\n",
       "       [1, 0, 0, 1, 0, 0, 1, 0, 0]])"
      ]
     },
     "execution_count": 66,
     "metadata": {},
     "output_type": "execute_result"
    }
   ],
   "source": [
    "mat"
   ]
  },
  {
   "cell_type": "code",
   "execution_count": null,
   "metadata": {},
   "outputs": [],
   "source": []
  }
 ],
 "metadata": {
  "interpreter": {
   "hash": "df45cb6d663cc8afacb114216269bf89e0c16df934e4699d2c851f6e60135cc8"
  },
  "kernelspec": {
   "display_name": "Python 3.8.10 ('hannah-rvIoGOA8-py3.8')",
   "language": "python",
   "name": "python3"
  },
  "language_info": {
   "codemirror_mode": {
    "name": "ipython",
    "version": 3
   },
   "file_extension": ".py",
   "mimetype": "text/x-python",
   "name": "python",
   "nbconvert_exporter": "python",
   "pygments_lexer": "ipython3",
   "version": "3.8.10"
  },
  "orig_nbformat": 4
 },
 "nbformat": 4,
 "nbformat_minor": 2
}
